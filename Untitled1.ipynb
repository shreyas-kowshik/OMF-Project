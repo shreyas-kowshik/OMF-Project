{
 "cells": [
  {
   "cell_type": "code",
   "execution_count": 1,
   "id": "4408c443",
   "metadata": {},
   "outputs": [],
   "source": [
    "import numpy as np"
   ]
  },
  {
   "cell_type": "code",
   "execution_count": 3,
   "id": "addbde29",
   "metadata": {},
   "outputs": [
    {
     "data": {
      "text/plain": [
       "array([26,  5, 29, 22,  1, 24, 15,  9,  4,  6, 17, 27, 16, 11,  7, 10, 12,\n",
       "       18,  0, 13, 28, 14, 19, 21, 23,  2,  8, 25, 20,  3], dtype=int64)"
      ]
     },
     "execution_count": 3,
     "metadata": {},
     "output_type": "execute_result"
    }
   ],
   "source": [
    "arr=np.load('lstm_window_5/10/top_idxs.npy')\n",
    "arr\n",
    "\n",
    "'''\n",
    "IFB AGRO INDUSTRIES LTD.\n",
    "TILAKNAGAR INDUSTRIES LTD.-$\n",
    "HINDUSTAN MOTORS LTD.\n",
    "ITC LTD.\n",
    "'''"
   ]
  },
  {
   "cell_type": "code",
   "execution_count": 4,
   "id": "eaea6f53",
   "metadata": {},
   "outputs": [
    {
     "data": {
      "text/plain": [
       "array([22, 24,  2, 27], dtype=int64)"
      ]
     },
     "execution_count": 4,
     "metadata": {},
     "output_type": "execute_result"
    }
   ],
   "source": [
    "arr=np.load('LR//10/top_idxs.npy')\n",
    "arr\n",
    "\n",
    "'''\n",
    "PANACEA BIOTEC LTD. : Pharmaceutical/Vaccine\n",
    "HINDUJA GLOBAL SOLUTIONS LTD. : Consultancy\n",
    "BANCO PRODUCTS (INDIA) LTD.-$ : Automotive/Engine-Cooling Components\n",
    "HINDUSTAN MOTORS LTD. : Automotive\n",
    "'''"
   ]
  },
  {
   "cell_type": "code",
   "execution_count": null,
   "id": "543a2877",
   "metadata": {},
   "outputs": [],
   "source": []
  }
 ],
 "metadata": {
  "kernelspec": {
   "display_name": "Python 3",
   "language": "python",
   "name": "python3"
  },
  "language_info": {
   "codemirror_mode": {
    "name": "ipython",
    "version": 3
   },
   "file_extension": ".py",
   "mimetype": "text/x-python",
   "name": "python",
   "nbconvert_exporter": "python",
   "pygments_lexer": "ipython3",
   "version": "3.8.8"
  }
 },
 "nbformat": 4,
 "nbformat_minor": 5
}
