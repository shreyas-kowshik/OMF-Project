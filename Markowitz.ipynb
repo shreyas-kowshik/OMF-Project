{
 "cells": [
  {
   "cell_type": "code",
   "execution_count": 4,
   "id": "9caa02dd",
   "metadata": {},
   "outputs": [],
   "source": [
    "import numpy as np\n",
    "import pandas as pd\n",
    "import cvxopt\n",
    "import os\n",
    "import json"
   ]
  },
  {
   "cell_type": "code",
   "execution_count": 28,
   "id": "530c5057",
   "metadata": {},
   "outputs": [],
   "source": [
    "# Hyperparameters #\n",
    "folder='10'\n",
    "target_return=0.2"
   ]
  },
  {
   "cell_type": "code",
   "execution_count": 29,
   "id": "916ecd7b",
   "metadata": {},
   "outputs": [],
   "source": [
    "with open(os.path.join(folder, 'commandline_args.txt')) as file:\n",
    "    d=json.loads(file.read())"
   ]
  },
  {
   "cell_type": "code",
   "execution_count": 30,
   "id": "e62f3647",
   "metadata": {},
   "outputs": [],
   "source": [
    "preds=np.load(os.path.join(folder, 'preds_array.npy'))\n",
    "data=np.array(pd.read_csv('data.csv').iloc[:, :])\n",
    "assert preds.shape==data.shape"
   ]
  },
  {
   "cell_type": "code",
   "execution_count": 37,
   "id": "1a222662",
   "metadata": {},
   "outputs": [],
   "source": [
    "import cvxopt as opt\n",
    "from cvxopt import blas, solvers\n",
    "from cvxopt import matrix\n",
    "\n",
    "def markowitz_no_constraint(X):\n",
    "    R = np.copy(X)\n",
    "    for i in range(1, R.shape[0]):\n",
    "        R[i] = (X[i] - X[i-1])/X[i-1]\n",
    "\n",
    "    R = R[1:, :]\n",
    "\n",
    "    # Solve optimiation problem #\n",
    "    R_m = R - np.mean(R, axis=0)\n",
    "    omega = np.dot(R_m.T, R_m)/(np.shape(R_m)[0])\n",
    "\n",
    "    # No target return constraint #\n",
    "    e = np.ones((30, 1))\n",
    "    u = np.dot(np.linalg.inv(omega), e)\n",
    "    w_opt = u/(np.dot(e.T, u))\n",
    "    assert np.allclose(np.sum(w_opt), 1.0), \"w_opt not summing to 1.0\"\n",
    "    mu = np.mean(R, axis=0).reshape(-1, 1)\n",
    "    \n",
    "    portfolio_return = np.sum(np.dot(mu.T, w_opt))\n",
    "    portfolio_risk = np.dot(w_opt.T, np.dot(omega, w_opt))[0][0]\n",
    "    sharpe_ratio=portfolio_return/portfolio_risk\n",
    "    \n",
    "    return portfolio_return, portfolio_risk, sharpe_ratio, w_opt\n",
    "\n",
    "def markowitz_target_return(X, target_return):\n",
    "    R = np.copy(X)\n",
    "    for i in range(1, R.shape[0]):\n",
    "        R[i] = (X[i] - X[i-1])/X[i-1]\n",
    "\n",
    "    R = R[1:, :]\n",
    "\n",
    "    # Solve optimiation problem #\n",
    "    R_m = R - np.mean(R, axis=0)\n",
    "    omega = np.dot(R_m.T, R_m)/(np.shape(R_m)[0])\n",
    "    \n",
    "    \"\"\"\n",
    "    1/2 x'Px + q'x\n",
    "    subject to :\n",
    "    Gx <= h\n",
    "    Ax = b\n",
    "\n",
    "    sol = solvers.qp(P,q,G,h,A,b)\n",
    "    \"\"\"\n",
    "    nAssets = omega.shape[0]\n",
    "    e = np.ones(nAssets).reshape(1, -1)\n",
    "    mu = np.mean(R, axis=0).reshape(1, -1)\n",
    "\n",
    "    P = matrix(2.0 * omega, tc='d') # tc='d' for double matrices\n",
    "    q = matrix(np.zeros(nAssets))\n",
    "    G = matrix(np.zeros((nAssets, nAssets)), tc='d')\n",
    "    h = matrix(np.zeros(nAssets), tc='d')\n",
    "    A = matrix(np.vstack([e, mu]), tc='d')\n",
    "    b = matrix([1.0, target_return])\n",
    "\n",
    "    sol = solvers.qp(P,q,G,h,A,b)\n",
    "\n",
    "    w_opt = np.array(sol['x'])\n",
    "\n",
    "    assert np.allclose(np.sum(w_opt), 1.0), \"w_opt not summing to 1.0\"\n",
    "    assert np.allclose(np.dot(mu, w_opt), target_return), \"mu'w not 0.2\"\n",
    "    \n",
    "    portfolio_return = np.sum(np.dot(mu, w_opt))\n",
    "    portfolio_risk = np.dot(w_opt.T, np.dot(omega, w_opt))[0][0]\n",
    "    sharpe_ratio=portfolio_return/portfolio_risk\n",
    "    \n",
    "    return portfolio_return, portfolio_risk, sharpe_ratio, w_opt"
   ]
  },
  {
   "cell_type": "code",
   "execution_count": 40,
   "id": "f320cc00",
   "metadata": {},
   "outputs": [
    {
     "name": "stdout",
     "output_type": "stream",
     "text": [
      "7.781843489703563\n"
     ]
    }
   ],
   "source": [
    "ret, risk, sr, w_opt = markowitz_no_constraint(preds)\n",
    "print(sr)"
   ]
  },
  {
   "cell_type": "code",
   "execution_count": 41,
   "id": "f4484698",
   "metadata": {},
   "outputs": [
    {
     "name": "stdout",
     "output_type": "stream",
     "text": [
      "     pcost       dcost       gap    pres   dres\n",
      " 0:  3.0077e-01  3.0077e-01  3e+01  5e+00  1e-17\n",
      " 1:  3.0077e-01  3.0077e-01  3e-01  5e-02  1e-17\n",
      " 2:  3.0077e-01  3.0077e-01  3e-03  5e-04  7e-18\n",
      " 3:  3.0077e-01  3.0077e-01  3e-05  5e-06  9e-18\n",
      " 4:  3.0077e-01  3.0077e-01  3e-07  5e-08  1e-17\n",
      "Optimal solution found.\n",
      "0.6649544598744258\n"
     ]
    }
   ],
   "source": [
    "ret, risk, sr, w_opt = markowitz_target_return(preds, target_return)\n",
    "print(sr)"
   ]
  },
  {
   "cell_type": "code",
   "execution_count": null,
   "id": "df2e1f76",
   "metadata": {},
   "outputs": [],
   "source": []
  },
  {
   "cell_type": "code",
   "execution_count": null,
   "id": "15535fdb",
   "metadata": {},
   "outputs": [],
   "source": []
  },
  {
   "cell_type": "code",
   "execution_count": null,
   "id": "85901ec4",
   "metadata": {},
   "outputs": [],
   "source": []
  },
  {
   "cell_type": "code",
   "execution_count": null,
   "id": "2d22b498",
   "metadata": {},
   "outputs": [],
   "source": []
  }
 ],
 "metadata": {
  "kernelspec": {
   "display_name": "Python (dl)",
   "language": "python",
   "name": "dl"
  },
  "language_info": {
   "codemirror_mode": {
    "name": "ipython",
    "version": 3
   },
   "file_extension": ".py",
   "mimetype": "text/x-python",
   "name": "python",
   "nbconvert_exporter": "python",
   "pygments_lexer": "ipython3",
   "version": "3.8.11"
  }
 },
 "nbformat": 4,
 "nbformat_minor": 5
}
